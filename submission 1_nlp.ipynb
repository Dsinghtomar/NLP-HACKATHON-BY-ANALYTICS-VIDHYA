{
 "cells": [
  {
   "cell_type": "code",
   "execution_count": 1,
   "metadata": {},
   "outputs": [],
   "source": [
    "import pandas as pd\n",
    "import numpy as np\n",
    "import nltk"
   ]
  },
  {
   "cell_type": "code",
   "execution_count": 2,
   "metadata": {},
   "outputs": [],
   "source": [
    "data1=pd.read_csv('C:/Users/dhirendra/Downloads/nlp hackathon/train_E52nqFa/train.csv')\n",
    "data2=pd.read_csv('C:/Users/dhirendra/Downloads/nlp hackathon/train_E52nqFa/game_overview.csv')"
   ]
  },
  {
   "cell_type": "code",
   "execution_count": 3,
   "metadata": {},
   "outputs": [
    {
     "data": {
      "text/html": [
       "<div>\n",
       "<style scoped>\n",
       "    .dataframe tbody tr th:only-of-type {\n",
       "        vertical-align: middle;\n",
       "    }\n",
       "\n",
       "    .dataframe tbody tr th {\n",
       "        vertical-align: top;\n",
       "    }\n",
       "\n",
       "    .dataframe thead th {\n",
       "        text-align: right;\n",
       "    }\n",
       "</style>\n",
       "<table border=\"1\" class=\"dataframe\">\n",
       "  <thead>\n",
       "    <tr style=\"text-align: right;\">\n",
       "      <th></th>\n",
       "      <th>review_id</th>\n",
       "      <th>title</th>\n",
       "      <th>year</th>\n",
       "      <th>user_review</th>\n",
       "      <th>user_suggestion</th>\n",
       "    </tr>\n",
       "  </thead>\n",
       "  <tbody>\n",
       "    <tr>\n",
       "      <th>0</th>\n",
       "      <td>1</td>\n",
       "      <td>Spooky's Jump Scare Mansion</td>\n",
       "      <td>2016.0</td>\n",
       "      <td>I'm scared and hearing creepy voices.  So I'll...</td>\n",
       "      <td>1</td>\n",
       "    </tr>\n",
       "    <tr>\n",
       "      <th>1</th>\n",
       "      <td>2</td>\n",
       "      <td>Spooky's Jump Scare Mansion</td>\n",
       "      <td>2016.0</td>\n",
       "      <td>Best game, more better than Sam Pepper's YouTu...</td>\n",
       "      <td>1</td>\n",
       "    </tr>\n",
       "    <tr>\n",
       "      <th>2</th>\n",
       "      <td>3</td>\n",
       "      <td>Spooky's Jump Scare Mansion</td>\n",
       "      <td>2016.0</td>\n",
       "      <td>A littly iffy on the controls, but once you kn...</td>\n",
       "      <td>1</td>\n",
       "    </tr>\n",
       "    <tr>\n",
       "      <th>3</th>\n",
       "      <td>4</td>\n",
       "      <td>Spooky's Jump Scare Mansion</td>\n",
       "      <td>2015.0</td>\n",
       "      <td>Great game, fun and colorful and all that.A si...</td>\n",
       "      <td>1</td>\n",
       "    </tr>\n",
       "    <tr>\n",
       "      <th>4</th>\n",
       "      <td>5</td>\n",
       "      <td>Spooky's Jump Scare Mansion</td>\n",
       "      <td>2015.0</td>\n",
       "      <td>Not many games have the cute tag right next to...</td>\n",
       "      <td>1</td>\n",
       "    </tr>\n",
       "  </tbody>\n",
       "</table>\n",
       "</div>"
      ],
      "text/plain": [
       "   review_id                        title    year  \\\n",
       "0          1  Spooky's Jump Scare Mansion  2016.0   \n",
       "1          2  Spooky's Jump Scare Mansion  2016.0   \n",
       "2          3  Spooky's Jump Scare Mansion  2016.0   \n",
       "3          4  Spooky's Jump Scare Mansion  2015.0   \n",
       "4          5  Spooky's Jump Scare Mansion  2015.0   \n",
       "\n",
       "                                         user_review  user_suggestion  \n",
       "0  I'm scared and hearing creepy voices.  So I'll...                1  \n",
       "1  Best game, more better than Sam Pepper's YouTu...                1  \n",
       "2  A littly iffy on the controls, but once you kn...                1  \n",
       "3  Great game, fun and colorful and all that.A si...                1  \n",
       "4  Not many games have the cute tag right next to...                1  "
      ]
     },
     "execution_count": 3,
     "metadata": {},
     "output_type": "execute_result"
    }
   ],
   "source": [
    "data1.head()"
   ]
  },
  {
   "cell_type": "code",
   "execution_count": 4,
   "metadata": {},
   "outputs": [
    {
     "data": {
      "text/html": [
       "<div>\n",
       "<style scoped>\n",
       "    .dataframe tbody tr th:only-of-type {\n",
       "        vertical-align: middle;\n",
       "    }\n",
       "\n",
       "    .dataframe tbody tr th {\n",
       "        vertical-align: top;\n",
       "    }\n",
       "\n",
       "    .dataframe thead th {\n",
       "        text-align: right;\n",
       "    }\n",
       "</style>\n",
       "<table border=\"1\" class=\"dataframe\">\n",
       "  <thead>\n",
       "    <tr style=\"text-align: right;\">\n",
       "      <th></th>\n",
       "      <th>title</th>\n",
       "      <th>developer</th>\n",
       "      <th>publisher</th>\n",
       "      <th>tags</th>\n",
       "      <th>overview</th>\n",
       "    </tr>\n",
       "  </thead>\n",
       "  <tbody>\n",
       "    <tr>\n",
       "      <th>0</th>\n",
       "      <td>Spooky's Jump Scare Mansion</td>\n",
       "      <td>Lag Studios</td>\n",
       "      <td>Lag Studios</td>\n",
       "      <td>['Horror', 'Free to Play', 'Cute', 'First-Pers...</td>\n",
       "      <td>Can you survive 1000 rooms of cute terror? Or ...</td>\n",
       "    </tr>\n",
       "    <tr>\n",
       "      <th>1</th>\n",
       "      <td>Sakura Clicker</td>\n",
       "      <td>Winged Cloud</td>\n",
       "      <td>Winged Cloud</td>\n",
       "      <td>['Nudity', 'Anime', 'Free to Play', 'Mature', ...</td>\n",
       "      <td>The latest entry in the Sakura series is more ...</td>\n",
       "    </tr>\n",
       "    <tr>\n",
       "      <th>2</th>\n",
       "      <td>WARMODE</td>\n",
       "      <td>WARTEAM</td>\n",
       "      <td>WARTEAM</td>\n",
       "      <td>['Early Access', 'Free to Play', 'FPS', 'Multi...</td>\n",
       "      <td>Free to play shooter about the confrontation o...</td>\n",
       "    </tr>\n",
       "    <tr>\n",
       "      <th>3</th>\n",
       "      <td>Fractured Space</td>\n",
       "      <td>Edge Case Games Ltd.</td>\n",
       "      <td>Edge Case Games Ltd.</td>\n",
       "      <td>['Space', 'Multiplayer', 'Free to Play', 'PvP'...</td>\n",
       "      <td>Take the helm of a gigantic capital ship and g...</td>\n",
       "    </tr>\n",
       "    <tr>\n",
       "      <th>4</th>\n",
       "      <td>Counter-Strike: Global Offensive</td>\n",
       "      <td>Valve, Hidden Path Entertainment</td>\n",
       "      <td>Valve</td>\n",
       "      <td>['FPS', 'Multiplayer', 'Shooter', 'Action', 'T...</td>\n",
       "      <td>Counter-Strike: Global Offensive (CS: GO) expa...</td>\n",
       "    </tr>\n",
       "  </tbody>\n",
       "</table>\n",
       "</div>"
      ],
      "text/plain": [
       "                              title                          developer  \\\n",
       "0       Spooky's Jump Scare Mansion                       Lag Studios    \n",
       "1                    Sakura Clicker                      Winged Cloud    \n",
       "2                           WARMODE                           WARTEAM    \n",
       "3                   Fractured Space              Edge Case Games Ltd.    \n",
       "4  Counter-Strike: Global Offensive  Valve, Hidden Path Entertainment    \n",
       "\n",
       "               publisher                                               tags  \\\n",
       "0           Lag Studios   ['Horror', 'Free to Play', 'Cute', 'First-Pers...   \n",
       "1          Winged Cloud   ['Nudity', 'Anime', 'Free to Play', 'Mature', ...   \n",
       "2               WARTEAM   ['Early Access', 'Free to Play', 'FPS', 'Multi...   \n",
       "3  Edge Case Games Ltd.   ['Space', 'Multiplayer', 'Free to Play', 'PvP'...   \n",
       "4                 Valve   ['FPS', 'Multiplayer', 'Shooter', 'Action', 'T...   \n",
       "\n",
       "                                            overview  \n",
       "0  Can you survive 1000 rooms of cute terror? Or ...  \n",
       "1  The latest entry in the Sakura series is more ...  \n",
       "2  Free to play shooter about the confrontation o...  \n",
       "3  Take the helm of a gigantic capital ship and g...  \n",
       "4  Counter-Strike: Global Offensive (CS: GO) expa...  "
      ]
     },
     "execution_count": 4,
     "metadata": {},
     "output_type": "execute_result"
    }
   ],
   "source": [
    "data2.head()"
   ]
  },
  {
   "cell_type": "code",
   "execution_count": 5,
   "metadata": {},
   "outputs": [],
   "source": [
    "data3=pd.merge(data1,data2)"
   ]
  },
  {
   "cell_type": "code",
   "execution_count": 6,
   "metadata": {},
   "outputs": [
    {
     "data": {
      "text/html": [
       "<div>\n",
       "<style scoped>\n",
       "    .dataframe tbody tr th:only-of-type {\n",
       "        vertical-align: middle;\n",
       "    }\n",
       "\n",
       "    .dataframe tbody tr th {\n",
       "        vertical-align: top;\n",
       "    }\n",
       "\n",
       "    .dataframe thead th {\n",
       "        text-align: right;\n",
       "    }\n",
       "</style>\n",
       "<table border=\"1\" class=\"dataframe\">\n",
       "  <thead>\n",
       "    <tr style=\"text-align: right;\">\n",
       "      <th></th>\n",
       "      <th>review_id</th>\n",
       "      <th>title</th>\n",
       "      <th>year</th>\n",
       "      <th>user_review</th>\n",
       "      <th>user_suggestion</th>\n",
       "      <th>developer</th>\n",
       "      <th>publisher</th>\n",
       "      <th>tags</th>\n",
       "      <th>overview</th>\n",
       "    </tr>\n",
       "  </thead>\n",
       "  <tbody>\n",
       "    <tr>\n",
       "      <th>0</th>\n",
       "      <td>1</td>\n",
       "      <td>Spooky's Jump Scare Mansion</td>\n",
       "      <td>2016.0</td>\n",
       "      <td>I'm scared and hearing creepy voices.  So I'll...</td>\n",
       "      <td>1</td>\n",
       "      <td>Lag Studios</td>\n",
       "      <td>Lag Studios</td>\n",
       "      <td>['Horror', 'Free to Play', 'Cute', 'First-Pers...</td>\n",
       "      <td>Can you survive 1000 rooms of cute terror? Or ...</td>\n",
       "    </tr>\n",
       "    <tr>\n",
       "      <th>1</th>\n",
       "      <td>2</td>\n",
       "      <td>Spooky's Jump Scare Mansion</td>\n",
       "      <td>2016.0</td>\n",
       "      <td>Best game, more better than Sam Pepper's YouTu...</td>\n",
       "      <td>1</td>\n",
       "      <td>Lag Studios</td>\n",
       "      <td>Lag Studios</td>\n",
       "      <td>['Horror', 'Free to Play', 'Cute', 'First-Pers...</td>\n",
       "      <td>Can you survive 1000 rooms of cute terror? Or ...</td>\n",
       "    </tr>\n",
       "    <tr>\n",
       "      <th>2</th>\n",
       "      <td>3</td>\n",
       "      <td>Spooky's Jump Scare Mansion</td>\n",
       "      <td>2016.0</td>\n",
       "      <td>A littly iffy on the controls, but once you kn...</td>\n",
       "      <td>1</td>\n",
       "      <td>Lag Studios</td>\n",
       "      <td>Lag Studios</td>\n",
       "      <td>['Horror', 'Free to Play', 'Cute', 'First-Pers...</td>\n",
       "      <td>Can you survive 1000 rooms of cute terror? Or ...</td>\n",
       "    </tr>\n",
       "    <tr>\n",
       "      <th>3</th>\n",
       "      <td>4</td>\n",
       "      <td>Spooky's Jump Scare Mansion</td>\n",
       "      <td>2015.0</td>\n",
       "      <td>Great game, fun and colorful and all that.A si...</td>\n",
       "      <td>1</td>\n",
       "      <td>Lag Studios</td>\n",
       "      <td>Lag Studios</td>\n",
       "      <td>['Horror', 'Free to Play', 'Cute', 'First-Pers...</td>\n",
       "      <td>Can you survive 1000 rooms of cute terror? Or ...</td>\n",
       "    </tr>\n",
       "    <tr>\n",
       "      <th>4</th>\n",
       "      <td>5</td>\n",
       "      <td>Spooky's Jump Scare Mansion</td>\n",
       "      <td>2015.0</td>\n",
       "      <td>Not many games have the cute tag right next to...</td>\n",
       "      <td>1</td>\n",
       "      <td>Lag Studios</td>\n",
       "      <td>Lag Studios</td>\n",
       "      <td>['Horror', 'Free to Play', 'Cute', 'First-Pers...</td>\n",
       "      <td>Can you survive 1000 rooms of cute terror? Or ...</td>\n",
       "    </tr>\n",
       "  </tbody>\n",
       "</table>\n",
       "</div>"
      ],
      "text/plain": [
       "   review_id                        title    year  \\\n",
       "0          1  Spooky's Jump Scare Mansion  2016.0   \n",
       "1          2  Spooky's Jump Scare Mansion  2016.0   \n",
       "2          3  Spooky's Jump Scare Mansion  2016.0   \n",
       "3          4  Spooky's Jump Scare Mansion  2015.0   \n",
       "4          5  Spooky's Jump Scare Mansion  2015.0   \n",
       "\n",
       "                                         user_review  user_suggestion  \\\n",
       "0  I'm scared and hearing creepy voices.  So I'll...                1   \n",
       "1  Best game, more better than Sam Pepper's YouTu...                1   \n",
       "2  A littly iffy on the controls, but once you kn...                1   \n",
       "3  Great game, fun and colorful and all that.A si...                1   \n",
       "4  Not many games have the cute tag right next to...                1   \n",
       "\n",
       "      developer     publisher  \\\n",
       "0  Lag Studios   Lag Studios    \n",
       "1  Lag Studios   Lag Studios    \n",
       "2  Lag Studios   Lag Studios    \n",
       "3  Lag Studios   Lag Studios    \n",
       "4  Lag Studios   Lag Studios    \n",
       "\n",
       "                                                tags  \\\n",
       "0  ['Horror', 'Free to Play', 'Cute', 'First-Pers...   \n",
       "1  ['Horror', 'Free to Play', 'Cute', 'First-Pers...   \n",
       "2  ['Horror', 'Free to Play', 'Cute', 'First-Pers...   \n",
       "3  ['Horror', 'Free to Play', 'Cute', 'First-Pers...   \n",
       "4  ['Horror', 'Free to Play', 'Cute', 'First-Pers...   \n",
       "\n",
       "                                            overview  \n",
       "0  Can you survive 1000 rooms of cute terror? Or ...  \n",
       "1  Can you survive 1000 rooms of cute terror? Or ...  \n",
       "2  Can you survive 1000 rooms of cute terror? Or ...  \n",
       "3  Can you survive 1000 rooms of cute terror? Or ...  \n",
       "4  Can you survive 1000 rooms of cute terror? Or ...  "
      ]
     },
     "execution_count": 6,
     "metadata": {},
     "output_type": "execute_result"
    }
   ],
   "source": [
    "data3.head()"
   ]
  },
  {
   "cell_type": "code",
   "execution_count": 7,
   "metadata": {},
   "outputs": [],
   "source": [
    "text=pd.DataFrame(data3['user_review'])\n",
    "target=pd.DataFrame(data3['user_suggestion'])\n",
    "data4=pd.DataFrame(data3.drop(['user_review','user_suggestion'],axis=1))"
   ]
  },
  {
   "cell_type": "code",
   "execution_count": 8,
   "metadata": {},
   "outputs": [],
   "source": [
    "import string\n",
    "punctuations=string.punctuation\n",
    "\n",
    "from nltk.corpus import stopwords\n",
    "stopword_list=stopwords.words('english')\n",
    "\n",
    "from nltk.stem.wordnet import WordNetLemmatizer\n",
    "lem=WordNetLemmatizer()\n",
    "\n",
    "\n",
    "def _clean(text):\n",
    "    clean_text=text.lower()\n",
    "    clean_text=\"\".join(c for c in clean_text if c not in punctuations)\n",
    "    words=clean_text.split()\n",
    "    words=[w for w in words if w not in stopword_list]\n",
    "    words=[lem.lemmatize(word,'v') for word in words]\n",
    "    words=[lem.lemmatize(word,'n') for word in words]\n",
    "    \n",
    "    clean_text=\" \".join(words)\n",
    "    return clean_text"
   ]
  },
  {
   "cell_type": "code",
   "execution_count": 9,
   "metadata": {},
   "outputs": [
    {
     "data": {
      "text/html": [
       "<div>\n",
       "<style scoped>\n",
       "    .dataframe tbody tr th:only-of-type {\n",
       "        vertical-align: middle;\n",
       "    }\n",
       "\n",
       "    .dataframe tbody tr th {\n",
       "        vertical-align: top;\n",
       "    }\n",
       "\n",
       "    .dataframe thead th {\n",
       "        text-align: right;\n",
       "    }\n",
       "</style>\n",
       "<table border=\"1\" class=\"dataframe\">\n",
       "  <thead>\n",
       "    <tr style=\"text-align: right;\">\n",
       "      <th></th>\n",
       "      <th>user_review</th>\n",
       "    </tr>\n",
       "  </thead>\n",
       "  <tbody>\n",
       "    <tr>\n",
       "      <th>0</th>\n",
       "      <td>I'm scared and hearing creepy voices.  So I'll...</td>\n",
       "    </tr>\n",
       "    <tr>\n",
       "      <th>1</th>\n",
       "      <td>Best game, more better than Sam Pepper's YouTu...</td>\n",
       "    </tr>\n",
       "    <tr>\n",
       "      <th>2</th>\n",
       "      <td>A littly iffy on the controls, but once you kn...</td>\n",
       "    </tr>\n",
       "    <tr>\n",
       "      <th>3</th>\n",
       "      <td>Great game, fun and colorful and all that.A si...</td>\n",
       "    </tr>\n",
       "    <tr>\n",
       "      <th>4</th>\n",
       "      <td>Not many games have the cute tag right next to...</td>\n",
       "    </tr>\n",
       "  </tbody>\n",
       "</table>\n",
       "</div>"
      ],
      "text/plain": [
       "                                         user_review\n",
       "0  I'm scared and hearing creepy voices.  So I'll...\n",
       "1  Best game, more better than Sam Pepper's YouTu...\n",
       "2  A littly iffy on the controls, but once you kn...\n",
       "3  Great game, fun and colorful and all that.A si...\n",
       "4  Not many games have the cute tag right next to..."
      ]
     },
     "execution_count": 9,
     "metadata": {},
     "output_type": "execute_result"
    }
   ],
   "source": [
    "text.head()"
   ]
  },
  {
   "cell_type": "code",
   "execution_count": 10,
   "metadata": {},
   "outputs": [
    {
     "data": {
      "text/html": [
       "<div>\n",
       "<style scoped>\n",
       "    .dataframe tbody tr th:only-of-type {\n",
       "        vertical-align: middle;\n",
       "    }\n",
       "\n",
       "    .dataframe tbody tr th {\n",
       "        vertical-align: top;\n",
       "    }\n",
       "\n",
       "    .dataframe thead th {\n",
       "        text-align: right;\n",
       "    }\n",
       "</style>\n",
       "<table border=\"1\" class=\"dataframe\">\n",
       "  <thead>\n",
       "    <tr style=\"text-align: right;\">\n",
       "      <th></th>\n",
       "      <th>user_review</th>\n",
       "      <th>clean_user_review</th>\n",
       "    </tr>\n",
       "  </thead>\n",
       "  <tbody>\n",
       "    <tr>\n",
       "      <th>0</th>\n",
       "      <td>I'm scared and hearing creepy voices.  So I'll...</td>\n",
       "      <td>im scar hear creepy voice ill pause moment wri...</td>\n",
       "    </tr>\n",
       "    <tr>\n",
       "      <th>1</th>\n",
       "      <td>Best game, more better than Sam Pepper's YouTu...</td>\n",
       "      <td>best game better sam pepper youtube account 10...</td>\n",
       "    </tr>\n",
       "    <tr>\n",
       "      <th>2</th>\n",
       "      <td>A littly iffy on the controls, but once you kn...</td>\n",
       "      <td>littly iffy control know play easy master ive ...</td>\n",
       "    </tr>\n",
       "    <tr>\n",
       "      <th>3</th>\n",
       "      <td>Great game, fun and colorful and all that.A si...</td>\n",
       "      <td>great game fun colorful thata side note though...</td>\n",
       "    </tr>\n",
       "    <tr>\n",
       "      <th>4</th>\n",
       "      <td>Not many games have the cute tag right next to...</td>\n",
       "      <td>many game cute tag right next horror tag steam...</td>\n",
       "    </tr>\n",
       "  </tbody>\n",
       "</table>\n",
       "</div>"
      ],
      "text/plain": [
       "                                         user_review  \\\n",
       "0  I'm scared and hearing creepy voices.  So I'll...   \n",
       "1  Best game, more better than Sam Pepper's YouTu...   \n",
       "2  A littly iffy on the controls, but once you kn...   \n",
       "3  Great game, fun and colorful and all that.A si...   \n",
       "4  Not many games have the cute tag right next to...   \n",
       "\n",
       "                                   clean_user_review  \n",
       "0  im scar hear creepy voice ill pause moment wri...  \n",
       "1  best game better sam pepper youtube account 10...  \n",
       "2  littly iffy control know play easy master ive ...  \n",
       "3  great game fun colorful thata side note though...  \n",
       "4  many game cute tag right next horror tag steam...  "
      ]
     },
     "execution_count": 10,
     "metadata": {},
     "output_type": "execute_result"
    }
   ],
   "source": [
    "text['clean_user_review']=text['user_review'].apply(_clean)\n",
    "text.head()"
   ]
  },
  {
   "cell_type": "code",
   "execution_count": 11,
   "metadata": {},
   "outputs": [],
   "source": [
    "text['wordcount_user_review']=text['user_review'].apply(lambda x : len(x.split()))\n",
    "text['wordcount_clean_user_review']=text['clean_user_review'].apply(lambda x : len(x.split()))\n",
    "\n",
    "text['char_count']=text['user_review'].apply(lambda x : len(x))\n",
    "text['char_count_withoutspace']=text['clean_user_review'].apply(lambda x :len(x.replace(' ','')))\n",
    "text['num_digit']=text['user_review'].apply(lambda x: sum([1 if w.isdigit() else 0 for w in x.split()]))\n"
   ]
  },
  {
   "cell_type": "code",
   "execution_count": 12,
   "metadata": {},
   "outputs": [
    {
     "data": {
      "text/html": [
       "<div>\n",
       "<style scoped>\n",
       "    .dataframe tbody tr th:only-of-type {\n",
       "        vertical-align: middle;\n",
       "    }\n",
       "\n",
       "    .dataframe tbody tr th {\n",
       "        vertical-align: top;\n",
       "    }\n",
       "\n",
       "    .dataframe thead th {\n",
       "        text-align: right;\n",
       "    }\n",
       "</style>\n",
       "<table border=\"1\" class=\"dataframe\">\n",
       "  <thead>\n",
       "    <tr style=\"text-align: right;\">\n",
       "      <th></th>\n",
       "      <th>user_review</th>\n",
       "      <th>clean_user_review</th>\n",
       "      <th>wordcount_user_review</th>\n",
       "      <th>wordcount_clean_user_review</th>\n",
       "      <th>char_count</th>\n",
       "      <th>char_count_withoutspace</th>\n",
       "      <th>num_digit</th>\n",
       "    </tr>\n",
       "  </thead>\n",
       "  <tbody>\n",
       "    <tr>\n",
       "      <th>0</th>\n",
       "      <td>I'm scared and hearing creepy voices.  So I'll...</td>\n",
       "      <td>im scar hear creepy voice ill pause moment wri...</td>\n",
       "      <td>132</td>\n",
       "      <td>72</td>\n",
       "      <td>710</td>\n",
       "      <td>363</td>\n",
       "      <td>0</td>\n",
       "    </tr>\n",
       "    <tr>\n",
       "      <th>1</th>\n",
       "      <td>Best game, more better than Sam Pepper's YouTu...</td>\n",
       "      <td>best game better sam pepper youtube account 10...</td>\n",
       "      <td>44</td>\n",
       "      <td>29</td>\n",
       "      <td>335</td>\n",
       "      <td>223</td>\n",
       "      <td>0</td>\n",
       "    </tr>\n",
       "    <tr>\n",
       "      <th>2</th>\n",
       "      <td>A littly iffy on the controls, but once you kn...</td>\n",
       "      <td>littly iffy control know play easy master ive ...</td>\n",
       "      <td>70</td>\n",
       "      <td>39</td>\n",
       "      <td>397</td>\n",
       "      <td>219</td>\n",
       "      <td>1</td>\n",
       "    </tr>\n",
       "    <tr>\n",
       "      <th>3</th>\n",
       "      <td>Great game, fun and colorful and all that.A si...</td>\n",
       "      <td>great game fun colorful thata side note though...</td>\n",
       "      <td>47</td>\n",
       "      <td>27</td>\n",
       "      <td>280</td>\n",
       "      <td>145</td>\n",
       "      <td>0</td>\n",
       "    </tr>\n",
       "    <tr>\n",
       "      <th>4</th>\n",
       "      <td>Not many games have the cute tag right next to...</td>\n",
       "      <td>many game cute tag right next horror tag steam...</td>\n",
       "      <td>67</td>\n",
       "      <td>34</td>\n",
       "      <td>334</td>\n",
       "      <td>160</td>\n",
       "      <td>2</td>\n",
       "    </tr>\n",
       "  </tbody>\n",
       "</table>\n",
       "</div>"
      ],
      "text/plain": [
       "                                         user_review  \\\n",
       "0  I'm scared and hearing creepy voices.  So I'll...   \n",
       "1  Best game, more better than Sam Pepper's YouTu...   \n",
       "2  A littly iffy on the controls, but once you kn...   \n",
       "3  Great game, fun and colorful and all that.A si...   \n",
       "4  Not many games have the cute tag right next to...   \n",
       "\n",
       "                                   clean_user_review  wordcount_user_review  \\\n",
       "0  im scar hear creepy voice ill pause moment wri...                    132   \n",
       "1  best game better sam pepper youtube account 10...                     44   \n",
       "2  littly iffy control know play easy master ive ...                     70   \n",
       "3  great game fun colorful thata side note though...                     47   \n",
       "4  many game cute tag right next horror tag steam...                     67   \n",
       "\n",
       "   wordcount_clean_user_review  char_count  char_count_withoutspace  num_digit  \n",
       "0                           72         710                      363          0  \n",
       "1                           29         335                      223          0  \n",
       "2                           39         397                      219          1  \n",
       "3                           27         280                      145          0  \n",
       "4                           34         334                      160          2  "
      ]
     },
     "execution_count": 12,
     "metadata": {},
     "output_type": "execute_result"
    }
   ],
   "source": [
    "text.head()"
   ]
  },
  {
   "cell_type": "code",
   "execution_count": 13,
   "metadata": {},
   "outputs": [],
   "source": [
    "from sklearn.feature_extraction.text import CountVectorizer,TfidfVectorizer"
   ]
  },
  {
   "cell_type": "code",
   "execution_count": 14,
   "metadata": {},
   "outputs": [],
   "source": [
    "cvz=CountVectorizer()\n",
    "cvz.fit(text['clean_user_review'].values)\n",
    "count_vector=cvz.transform(text['clean_user_review'].values)"
   ]
  },
  {
   "cell_type": "code",
   "execution_count": 15,
   "metadata": {},
   "outputs": [],
   "source": [
    "word_tfidf=TfidfVectorizer()\n",
    "word_tfidf.fit(text['clean_user_review'].values)\n",
    "word_count_vector=word_tfidf.transform(text['clean_user_review'].values)"
   ]
  },
  {
   "cell_type": "code",
   "execution_count": 16,
   "metadata": {},
   "outputs": [
    {
     "data": {
      "text/html": [
       "<div>\n",
       "<style scoped>\n",
       "    .dataframe tbody tr th:only-of-type {\n",
       "        vertical-align: middle;\n",
       "    }\n",
       "\n",
       "    .dataframe tbody tr th {\n",
       "        vertical-align: top;\n",
       "    }\n",
       "\n",
       "    .dataframe thead th {\n",
       "        text-align: right;\n",
       "    }\n",
       "</style>\n",
       "<table border=\"1\" class=\"dataframe\">\n",
       "  <thead>\n",
       "    <tr style=\"text-align: right;\">\n",
       "      <th></th>\n",
       "      <th>0</th>\n",
       "    </tr>\n",
       "  </thead>\n",
       "  <tbody>\n",
       "    <tr>\n",
       "      <th>00</th>\n",
       "      <td>8.823760</td>\n",
       "    </tr>\n",
       "    <tr>\n",
       "      <th>000</th>\n",
       "      <td>7.879299</td>\n",
       "    </tr>\n",
       "    <tr>\n",
       "      <th>0000</th>\n",
       "      <td>10.076523</td>\n",
       "    </tr>\n",
       "    <tr>\n",
       "      <th>00000</th>\n",
       "      <td>9.671058</td>\n",
       "    </tr>\n",
       "    <tr>\n",
       "      <th>000001</th>\n",
       "      <td>10.076523</td>\n",
       "    </tr>\n",
       "    <tr>\n",
       "      <th>...</th>\n",
       "      <td>...</td>\n",
       "    </tr>\n",
       "    <tr>\n",
       "      <th>혼자서</th>\n",
       "      <td>10.076523</td>\n",
       "    </tr>\n",
       "    <tr>\n",
       "      <th>황망한</th>\n",
       "      <td>10.076523</td>\n",
       "    </tr>\n",
       "    <tr>\n",
       "      <th>황무지</th>\n",
       "      <td>10.076523</td>\n",
       "    </tr>\n",
       "    <tr>\n",
       "      <th>ﾉಥдಥﾉ</th>\n",
       "      <td>10.076523</td>\n",
       "    </tr>\n",
       "    <tr>\n",
       "      <th>ﾌﾌ</th>\n",
       "      <td>8.977911</td>\n",
       "    </tr>\n",
       "  </tbody>\n",
       "</table>\n",
       "<p>78061 rows × 1 columns</p>\n",
       "</div>"
      ],
      "text/plain": [
       "                0\n",
       "00       8.823760\n",
       "000      7.879299\n",
       "0000    10.076523\n",
       "00000    9.671058\n",
       "000001  10.076523\n",
       "...           ...\n",
       "혼자서     10.076523\n",
       "황망한     10.076523\n",
       "황무지     10.076523\n",
       "ﾉಥдಥﾉ   10.076523\n",
       "ﾌﾌ       8.977911\n",
       "\n",
       "[78061 rows x 1 columns]"
      ]
     },
     "execution_count": 16,
     "metadata": {},
     "output_type": "execute_result"
    }
   ],
   "source": [
    "tfidf=dict(zip(word_tfidf.get_feature_names(),word_tfidf.idf_))\n",
    "pd.DataFrame(columns=['word_tfidf']).from_dict(tfidf,orient=\"index\")"
   ]
  },
  {
   "cell_type": "code",
   "execution_count": 17,
   "metadata": {},
   "outputs": [],
   "source": [
    "from scipy.sparse import hstack,csr_matrix"
   ]
  },
  {
   "cell_type": "code",
   "execution_count": 18,
   "metadata": {},
   "outputs": [
    {
     "data": {
      "text/plain": [
       "Index(['user_review', 'clean_user_review', 'wordcount_user_review',\n",
       "       'wordcount_clean_user_review', 'char_count', 'char_count_withoutspace',\n",
       "       'num_digit'],\n",
       "      dtype='object')"
      ]
     },
     "execution_count": 18,
     "metadata": {},
     "output_type": "execute_result"
    }
   ],
   "source": [
    "text.columns"
   ]
  },
  {
   "cell_type": "code",
   "execution_count": 19,
   "metadata": {},
   "outputs": [],
   "source": [
    "meta_features=['wordcount_user_review',\n",
    "       'wordcount_clean_user_review', 'char_count', 'char_count_withoutspace',\n",
    "       'num_digit']\n",
    "feature_set1=text[meta_features]\n",
    "\n",
    "train=hstack([word_count_vector,csr_matrix(feature_set1)],'csr')"
   ]
  },
  {
   "cell_type": "code",
   "execution_count": 20,
   "metadata": {},
   "outputs": [
    {
     "data": {
      "text/plain": [
       "<17494x78066 sparse matrix of type '<class 'numpy.float64'>'\n",
       "\twith 1045677 stored elements in Compressed Sparse Row format>"
      ]
     },
     "execution_count": 20,
     "metadata": {},
     "output_type": "execute_result"
    }
   ],
   "source": [
    "train"
   ]
  },
  {
   "cell_type": "code",
   "execution_count": 21,
   "metadata": {},
   "outputs": [
    {
     "data": {
      "text/plain": [
       "(13120, 78066)"
      ]
     },
     "execution_count": 21,
     "metadata": {},
     "output_type": "execute_result"
    }
   ],
   "source": [
    "from sklearn.model_selection import train_test_split\n",
    "train_x,valid_x,train_y,valid_y=train_test_split(train,target)\n",
    "train_x.shape"
   ]
  },
  {
   "cell_type": "code",
   "execution_count": 22,
   "metadata": {},
   "outputs": [],
   "source": [
    "from sklearn import naive_bayes\n",
    "from sklearn.linear_model import LogisticRegression\n",
    "from sklearn import svm\n",
    "from sklearn import ensemble\n",
    "from sklearn.metrics import accuracy_score"
   ]
  },
  {
   "cell_type": "code",
   "execution_count": 23,
   "metadata": {},
   "outputs": [],
   "source": [
    "#model=naive_bayes.MultinomialNB()\n",
    "#model.fit(train_x,train_y)\n",
    "#preds=model.predict(valid_x)\n",
    "#accuracy_score(preds,valid_y)"
   ]
  },
  {
   "cell_type": "code",
   "execution_count": 24,
   "metadata": {},
   "outputs": [],
   "source": [
    "#model=LogisticRegression()\n",
    "#model.fit(train_x,train_y)\n",
    "#preds=model.predict(valid_x)\n",
    "#accuracy_score(preds,valid_y)"
   ]
  },
  {
   "cell_type": "code",
   "execution_count": 25,
   "metadata": {},
   "outputs": [],
   "source": [
    "#model=svm.SVC()\n",
    "#model.fit(train_x,train_y)\n",
    "#preds=model.predict(valid_x)\n",
    "#accuracy_score(preds,valid_y)"
   ]
  },
  {
   "cell_type": "code",
   "execution_count": 27,
   "metadata": {},
   "outputs": [
    {
     "name": "stderr",
     "output_type": "stream",
     "text": [
      "C:\\Users\\dhirendra\\anaconda3\\lib\\site-packages\\ipykernel_launcher.py:2: DataConversionWarning: A column-vector y was passed when a 1d array was expected. Please change the shape of y to (n_samples,), for example using ravel().\n",
      "  \n"
     ]
    },
    {
     "data": {
      "text/plain": [
       "0.8196159122085048"
      ]
     },
     "execution_count": 27,
     "metadata": {},
     "output_type": "execute_result"
    }
   ],
   "source": [
    "model_ensemble=ensemble.ExtraTreesClassifier()\n",
    "model_ensemble.fit(train_x,train_y)\n",
    "preds_train=model_ensemble.predict(valid_x)\n",
    "accuracy_score(preds_train,valid_y)"
   ]
  },
  {
   "cell_type": "code",
   "execution_count": 28,
   "metadata": {},
   "outputs": [],
   "source": [
    "test_data=pd.read_csv('C:/Users/dhirendra/Downloads/nlp hackathon/test_BppAoe0/test.csv')"
   ]
  },
  {
   "cell_type": "code",
   "execution_count": 29,
   "metadata": {},
   "outputs": [
    {
     "data": {
      "text/html": [
       "<div>\n",
       "<style scoped>\n",
       "    .dataframe tbody tr th:only-of-type {\n",
       "        vertical-align: middle;\n",
       "    }\n",
       "\n",
       "    .dataframe tbody tr th {\n",
       "        vertical-align: top;\n",
       "    }\n",
       "\n",
       "    .dataframe thead th {\n",
       "        text-align: right;\n",
       "    }\n",
       "</style>\n",
       "<table border=\"1\" class=\"dataframe\">\n",
       "  <thead>\n",
       "    <tr style=\"text-align: right;\">\n",
       "      <th></th>\n",
       "      <th>review_id</th>\n",
       "      <th>title</th>\n",
       "      <th>year</th>\n",
       "      <th>user_review</th>\n",
       "    </tr>\n",
       "  </thead>\n",
       "  <tbody>\n",
       "    <tr>\n",
       "      <th>0</th>\n",
       "      <td>1603</td>\n",
       "      <td>Counter-Strike: Global Offensive</td>\n",
       "      <td>2015.0</td>\n",
       "      <td>Nice graphics, new maps, weapons and models. B...</td>\n",
       "    </tr>\n",
       "    <tr>\n",
       "      <th>1</th>\n",
       "      <td>1604</td>\n",
       "      <td>Counter-Strike: Global Offensive</td>\n",
       "      <td>2018.0</td>\n",
       "      <td>I would not recommend getting into this at its...</td>\n",
       "    </tr>\n",
       "    <tr>\n",
       "      <th>2</th>\n",
       "      <td>1605</td>\n",
       "      <td>Counter-Strike: Global Offensive</td>\n",
       "      <td>2018.0</td>\n",
       "      <td>Edit 11/12/18I have tried playing CS:GO recent...</td>\n",
       "    </tr>\n",
       "    <tr>\n",
       "      <th>3</th>\n",
       "      <td>1606</td>\n",
       "      <td>Counter-Strike: Global Offensive</td>\n",
       "      <td>2015.0</td>\n",
       "      <td>The game is great. But the community is the wo...</td>\n",
       "    </tr>\n",
       "    <tr>\n",
       "      <th>4</th>\n",
       "      <td>1607</td>\n",
       "      <td>Counter-Strike: Global Offensive</td>\n",
       "      <td>2015.0</td>\n",
       "      <td>I thank TrulyRazor for buying this for me a lo...</td>\n",
       "    </tr>\n",
       "  </tbody>\n",
       "</table>\n",
       "</div>"
      ],
      "text/plain": [
       "   review_id                             title    year  \\\n",
       "0       1603  Counter-Strike: Global Offensive  2015.0   \n",
       "1       1604  Counter-Strike: Global Offensive  2018.0   \n",
       "2       1605  Counter-Strike: Global Offensive  2018.0   \n",
       "3       1606  Counter-Strike: Global Offensive  2015.0   \n",
       "4       1607  Counter-Strike: Global Offensive  2015.0   \n",
       "\n",
       "                                         user_review  \n",
       "0  Nice graphics, new maps, weapons and models. B...  \n",
       "1  I would not recommend getting into this at its...  \n",
       "2  Edit 11/12/18I have tried playing CS:GO recent...  \n",
       "3  The game is great. But the community is the wo...  \n",
       "4  I thank TrulyRazor for buying this for me a lo...  "
      ]
     },
     "execution_count": 29,
     "metadata": {},
     "output_type": "execute_result"
    }
   ],
   "source": [
    "test_data.head()"
   ]
  },
  {
   "cell_type": "code",
   "execution_count": 30,
   "metadata": {},
   "outputs": [
    {
     "data": {
      "text/html": [
       "<div>\n",
       "<style scoped>\n",
       "    .dataframe tbody tr th:only-of-type {\n",
       "        vertical-align: middle;\n",
       "    }\n",
       "\n",
       "    .dataframe tbody tr th {\n",
       "        vertical-align: top;\n",
       "    }\n",
       "\n",
       "    .dataframe thead th {\n",
       "        text-align: right;\n",
       "    }\n",
       "</style>\n",
       "<table border=\"1\" class=\"dataframe\">\n",
       "  <thead>\n",
       "    <tr style=\"text-align: right;\">\n",
       "      <th></th>\n",
       "      <th>user_review</th>\n",
       "    </tr>\n",
       "  </thead>\n",
       "  <tbody>\n",
       "    <tr>\n",
       "      <th>0</th>\n",
       "      <td>Nice graphics, new maps, weapons and models. B...</td>\n",
       "    </tr>\n",
       "    <tr>\n",
       "      <th>1</th>\n",
       "      <td>I would not recommend getting into this at its...</td>\n",
       "    </tr>\n",
       "    <tr>\n",
       "      <th>2</th>\n",
       "      <td>Edit 11/12/18I have tried playing CS:GO recent...</td>\n",
       "    </tr>\n",
       "    <tr>\n",
       "      <th>3</th>\n",
       "      <td>The game is great. But the community is the wo...</td>\n",
       "    </tr>\n",
       "    <tr>\n",
       "      <th>4</th>\n",
       "      <td>I thank TrulyRazor for buying this for me a lo...</td>\n",
       "    </tr>\n",
       "  </tbody>\n",
       "</table>\n",
       "</div>"
      ],
      "text/plain": [
       "                                         user_review\n",
       "0  Nice graphics, new maps, weapons and models. B...\n",
       "1  I would not recommend getting into this at its...\n",
       "2  Edit 11/12/18I have tried playing CS:GO recent...\n",
       "3  The game is great. But the community is the wo...\n",
       "4  I thank TrulyRazor for buying this for me a lo..."
      ]
     },
     "execution_count": 30,
     "metadata": {},
     "output_type": "execute_result"
    }
   ],
   "source": [
    "test_user_review = pd.DataFrame(test_data['user_review'])\n",
    "test_user_review.head()"
   ]
  },
  {
   "cell_type": "code",
   "execution_count": 31,
   "metadata": {},
   "outputs": [
    {
     "data": {
      "text/plain": [
       "(8045, 1)"
      ]
     },
     "execution_count": 31,
     "metadata": {},
     "output_type": "execute_result"
    }
   ],
   "source": [
    "test_user_review.shape"
   ]
  },
  {
   "cell_type": "code",
   "execution_count": 32,
   "metadata": {},
   "outputs": [
    {
     "data": {
      "text/html": [
       "<div>\n",
       "<style scoped>\n",
       "    .dataframe tbody tr th:only-of-type {\n",
       "        vertical-align: middle;\n",
       "    }\n",
       "\n",
       "    .dataframe tbody tr th {\n",
       "        vertical-align: top;\n",
       "    }\n",
       "\n",
       "    .dataframe thead th {\n",
       "        text-align: right;\n",
       "    }\n",
       "</style>\n",
       "<table border=\"1\" class=\"dataframe\">\n",
       "  <thead>\n",
       "    <tr style=\"text-align: right;\">\n",
       "      <th></th>\n",
       "      <th>user_review</th>\n",
       "      <th>clean_user_review</th>\n",
       "    </tr>\n",
       "  </thead>\n",
       "  <tbody>\n",
       "    <tr>\n",
       "      <th>0</th>\n",
       "      <td>Nice graphics, new maps, weapons and models. B...</td>\n",
       "      <td>nice graphic new map weapon model developer li...</td>\n",
       "    </tr>\n",
       "    <tr>\n",
       "      <th>1</th>\n",
       "      <td>I would not recommend getting into this at its...</td>\n",
       "      <td>would recommend get current state csgo hit roc...</td>\n",
       "    </tr>\n",
       "    <tr>\n",
       "      <th>2</th>\n",
       "      <td>Edit 11/12/18I have tried playing CS:GO recent...</td>\n",
       "      <td>edit 111218i try play csgo recently dramatical...</td>\n",
       "    </tr>\n",
       "    <tr>\n",
       "      <th>3</th>\n",
       "      <td>The game is great. But the community is the wo...</td>\n",
       "      <td>game great community worstif youre match russi...</td>\n",
       "    </tr>\n",
       "    <tr>\n",
       "      <th>4</th>\n",
       "      <td>I thank TrulyRazor for buying this for me a lo...</td>\n",
       "      <td>thank trulyrazor buy long time ago insist woul...</td>\n",
       "    </tr>\n",
       "  </tbody>\n",
       "</table>\n",
       "</div>"
      ],
      "text/plain": [
       "                                         user_review  \\\n",
       "0  Nice graphics, new maps, weapons and models. B...   \n",
       "1  I would not recommend getting into this at its...   \n",
       "2  Edit 11/12/18I have tried playing CS:GO recent...   \n",
       "3  The game is great. But the community is the wo...   \n",
       "4  I thank TrulyRazor for buying this for me a lo...   \n",
       "\n",
       "                                   clean_user_review  \n",
       "0  nice graphic new map weapon model developer li...  \n",
       "1  would recommend get current state csgo hit roc...  \n",
       "2  edit 111218i try play csgo recently dramatical...  \n",
       "3  game great community worstif youre match russi...  \n",
       "4  thank trulyrazor buy long time ago insist woul...  "
      ]
     },
     "execution_count": 32,
     "metadata": {},
     "output_type": "execute_result"
    }
   ],
   "source": [
    "test_user_review['clean_user_review']=test_user_review['user_review'].apply(_clean)\n",
    "test_user_review.head()"
   ]
  },
  {
   "cell_type": "code",
   "execution_count": 33,
   "metadata": {},
   "outputs": [],
   "source": [
    "test_user_review['wordcount_user_review']=test_user_review['user_review'].apply(lambda x : len(x.split()))\n",
    "test_user_review['wordcount_clean_user_review']=test_user_review['clean_user_review'].apply(lambda x : len(x.split()))\n",
    "\n",
    "test_user_review['char_count']=test_user_review['user_review'].apply(lambda x : len(x))\n",
    "test_user_review['char_count_withoutspace']=test_user_review['clean_user_review'].apply(lambda x :len(x.replace(' ','')))\n",
    "test_user_review['num_digit']=test_user_review['user_review'].apply(lambda x: sum([1 if w.isdigit() else 0 for w in x.split()]))\n"
   ]
  },
  {
   "cell_type": "code",
   "execution_count": 34,
   "metadata": {},
   "outputs": [
    {
     "data": {
      "text/html": [
       "<div>\n",
       "<style scoped>\n",
       "    .dataframe tbody tr th:only-of-type {\n",
       "        vertical-align: middle;\n",
       "    }\n",
       "\n",
       "    .dataframe tbody tr th {\n",
       "        vertical-align: top;\n",
       "    }\n",
       "\n",
       "    .dataframe thead th {\n",
       "        text-align: right;\n",
       "    }\n",
       "</style>\n",
       "<table border=\"1\" class=\"dataframe\">\n",
       "  <thead>\n",
       "    <tr style=\"text-align: right;\">\n",
       "      <th></th>\n",
       "      <th>0</th>\n",
       "    </tr>\n",
       "  </thead>\n",
       "  <tbody>\n",
       "    <tr>\n",
       "      <th>00</th>\n",
       "      <td>8.823760</td>\n",
       "    </tr>\n",
       "    <tr>\n",
       "      <th>000</th>\n",
       "      <td>7.879299</td>\n",
       "    </tr>\n",
       "    <tr>\n",
       "      <th>0000</th>\n",
       "      <td>10.076523</td>\n",
       "    </tr>\n",
       "    <tr>\n",
       "      <th>00000</th>\n",
       "      <td>9.671058</td>\n",
       "    </tr>\n",
       "    <tr>\n",
       "      <th>000001</th>\n",
       "      <td>10.076523</td>\n",
       "    </tr>\n",
       "    <tr>\n",
       "      <th>...</th>\n",
       "      <td>...</td>\n",
       "    </tr>\n",
       "    <tr>\n",
       "      <th>혼자서</th>\n",
       "      <td>10.076523</td>\n",
       "    </tr>\n",
       "    <tr>\n",
       "      <th>황망한</th>\n",
       "      <td>10.076523</td>\n",
       "    </tr>\n",
       "    <tr>\n",
       "      <th>황무지</th>\n",
       "      <td>10.076523</td>\n",
       "    </tr>\n",
       "    <tr>\n",
       "      <th>ﾉಥдಥﾉ</th>\n",
       "      <td>10.076523</td>\n",
       "    </tr>\n",
       "    <tr>\n",
       "      <th>ﾌﾌ</th>\n",
       "      <td>8.977911</td>\n",
       "    </tr>\n",
       "  </tbody>\n",
       "</table>\n",
       "<p>78061 rows × 1 columns</p>\n",
       "</div>"
      ],
      "text/plain": [
       "                0\n",
       "00       8.823760\n",
       "000      7.879299\n",
       "0000    10.076523\n",
       "00000    9.671058\n",
       "000001  10.076523\n",
       "...           ...\n",
       "혼자서     10.076523\n",
       "황망한     10.076523\n",
       "황무지     10.076523\n",
       "ﾉಥдಥﾉ   10.076523\n",
       "ﾌﾌ       8.977911\n",
       "\n",
       "[78061 rows x 1 columns]"
      ]
     },
     "execution_count": 34,
     "metadata": {},
     "output_type": "execute_result"
    }
   ],
   "source": [
    "from sklearn.feature_extraction.text import CountVectorizer,TfidfVectorizer\n",
    "\n",
    "cvz.fit(test_user_review['clean_user_review'].values)\n",
    "test_count_vector=cvz.transform(test_user_review['clean_user_review'].values)\n",
    "\n",
    "test_word_count_vector=word_tfidf.transform(test_user_review['clean_user_review'].values)\n",
    "\n",
    "tfidf=dict(zip(word_tfidf.get_feature_names(),word_tfidf.idf_))\n",
    "pd.DataFrame(columns=['word_tfidf']).from_dict(tfidf,orient=\"index\")"
   ]
  },
  {
   "cell_type": "code",
   "execution_count": 35,
   "metadata": {},
   "outputs": [
    {
     "data": {
      "text/plain": [
       "Index(['user_review', 'clean_user_review', 'wordcount_user_review',\n",
       "       'wordcount_clean_user_review', 'char_count', 'char_count_withoutspace',\n",
       "       'num_digit'],\n",
       "      dtype='object')"
      ]
     },
     "execution_count": 35,
     "metadata": {},
     "output_type": "execute_result"
    }
   ],
   "source": [
    "test_user_review.columns"
   ]
  },
  {
   "cell_type": "code",
   "execution_count": 36,
   "metadata": {},
   "outputs": [],
   "source": [
    "meta_features=['wordcount_user_review',\n",
    "       'wordcount_clean_user_review', 'char_count', 'char_count_withoutspace',\n",
    "       'num_digit']\n",
    "feature_set1=test_user_review[meta_features]\n",
    "\n",
    "test=hstack([test_word_count_vector,csr_matrix(feature_set1)],'csr')"
   ]
  },
  {
   "cell_type": "code",
   "execution_count": 37,
   "metadata": {},
   "outputs": [],
   "source": [
    "preds_test=model_ensemble.predict(test)"
   ]
  },
  {
   "cell_type": "code",
   "execution_count": 38,
   "metadata": {},
   "outputs": [],
   "source": [
    "from sklearn.metrics import f1_score"
   ]
  },
  {
   "cell_type": "code",
   "execution_count": 40,
   "metadata": {},
   "outputs": [],
   "source": [
    "#f1_score(preds_test,valid_y, average=None)"
   ]
  },
  {
   "cell_type": "code",
   "execution_count": 41,
   "metadata": {},
   "outputs": [],
   "source": [
    "submission_nlp = pd.DataFrame({'review_id':test_data.iloc[:,0], 'user_suggestion':preds_test})\n",
    "submission_nlp.to_csv('submission_nlp.csv', index=False)"
   ]
  },
  {
   "cell_type": "code",
   "execution_count": null,
   "metadata": {},
   "outputs": [],
   "source": []
  }
 ],
 "metadata": {
  "kernelspec": {
   "display_name": "Python 3",
   "language": "python",
   "name": "python3"
  },
  "language_info": {
   "codemirror_mode": {
    "name": "ipython",
    "version": 3
   },
   "file_extension": ".py",
   "mimetype": "text/x-python",
   "name": "python",
   "nbconvert_exporter": "python",
   "pygments_lexer": "ipython3",
   "version": "3.7.6"
  }
 },
 "nbformat": 4,
 "nbformat_minor": 4
}
